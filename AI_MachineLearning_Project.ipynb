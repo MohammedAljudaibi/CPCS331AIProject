{
 "cells": [
  {
   "cell_type": "markdown",
   "metadata": {},
   "source": [
    "\n",
    "# Machine Learning Example on Students Tests\n",
    "\n",
    "## Table of Contents\n",
    "<ul>\n",
    "<li><a href=\"#intro\">Problem Statement</a></li>\n",
    "<li><a href=\"#implement\">Implementation</a></li>\n",
    "<li><a href=\"#conclusions\">Conclusion</a></li>\n",
    "</ul>"
   ]
  },
  {
   "cell_type": "markdown",
   "metadata": {},
   "source": [
    "<a id='intro'></a>\n",
    "## Problem Statement \n",
    "***\n",
    "<br>\n",
    "\n",
    "### Which factors affect a students grades\n",
    "\n",
    "The problem that will be discussed in this paper relates to students and what facors affect their grades in exams. \n",
    "\n",
    "<br>\n",
    "\n",
    "### Dataset Description \n",
    "This dataset has 1000 entries of students who took exams and information on them, their gender, their race, their parents education, their school lunch, and finally their test scores.\n",
    "\n",
    "<br>\n",
    "\n",
    "### Application with Machine Learning\n",
    "Classifier machine learning algorithms will be applied to the dataset to predict students grades and to attempt to see which factors affect the students grade the most.\n",
    "\n",
    "\n",
    "\n"
   ]
  },
  {
   "cell_type": "markdown",
   "metadata": {},
   "source": [
    "<a id='implement'></a>\n",
    "## Implementation\n",
    "<br>\n",
    "\n",
    "### 1. Data Cleaning\n",
    "***"
   ]
  },
  {
   "cell_type": "code",
   "execution_count": 1,
   "metadata": {},
   "outputs": [],
   "source": [
    "#imports\n",
    "#these will be used for to label column headers when converting from categorical data to numeric data\n",
    "from sklearn.preprocessing import OneHotEncoder\n",
    "from sklearn.preprocessing import OrdinalEncoder\n",
    "#this will be used as a transformer for the naming of header columns\n",
    "from sklearn.compose import make_column_transformer\n",
    "#this will be used to split and randomize the dataset\n",
    "from sklearn.model_selection import train_test_split\n",
    "#these are the algorithms and classifiers that will be used for machine learning\n",
    "from sklearn.ensemble import RandomForestClassifier\n",
    "from sklearn.ensemble import GradientBoostingClassifier\n",
    "from sklearn.ensemble import AdaBoostClassifier\n",
    "#these will be used for data reading and analysis\n",
    "import pandas as pd\n",
    "import numpy as np\n",
    "#these will be used for plotting\n",
    "import matplotlib.pyplot as plt\n",
    "import seaborn as sns"
   ]
  },
  {
   "cell_type": "code",
   "execution_count": 2,
   "metadata": {
    "scrolled": false
   },
   "outputs": [
    {
     "data": {
      "text/html": [
       "<div>\n",
       "<style scoped>\n",
       "    .dataframe tbody tr th:only-of-type {\n",
       "        vertical-align: middle;\n",
       "    }\n",
       "\n",
       "    .dataframe tbody tr th {\n",
       "        vertical-align: top;\n",
       "    }\n",
       "\n",
       "    .dataframe thead th {\n",
       "        text-align: right;\n",
       "    }\n",
       "</style>\n",
       "<table border=\"1\" class=\"dataframe\">\n",
       "  <thead>\n",
       "    <tr style=\"text-align: right;\">\n",
       "      <th></th>\n",
       "      <th>gender</th>\n",
       "      <th>race</th>\n",
       "      <th>parent_education</th>\n",
       "      <th>lunch</th>\n",
       "      <th>test_preparation_course</th>\n",
       "      <th>math_score</th>\n",
       "      <th>reading_score</th>\n",
       "      <th>writing_score</th>\n",
       "    </tr>\n",
       "  </thead>\n",
       "  <tbody>\n",
       "    <tr>\n",
       "      <th>0</th>\n",
       "      <td>male</td>\n",
       "      <td>group A</td>\n",
       "      <td>high school</td>\n",
       "      <td>standard</td>\n",
       "      <td>completed</td>\n",
       "      <td>67</td>\n",
       "      <td>67</td>\n",
       "      <td>63</td>\n",
       "    </tr>\n",
       "    <tr>\n",
       "      <th>1</th>\n",
       "      <td>female</td>\n",
       "      <td>group D</td>\n",
       "      <td>some high school</td>\n",
       "      <td>free/reduced</td>\n",
       "      <td>none</td>\n",
       "      <td>40</td>\n",
       "      <td>59</td>\n",
       "      <td>55</td>\n",
       "    </tr>\n",
       "    <tr>\n",
       "      <th>2</th>\n",
       "      <td>male</td>\n",
       "      <td>group E</td>\n",
       "      <td>some college</td>\n",
       "      <td>free/reduced</td>\n",
       "      <td>none</td>\n",
       "      <td>59</td>\n",
       "      <td>60</td>\n",
       "      <td>50</td>\n",
       "    </tr>\n",
       "    <tr>\n",
       "      <th>3</th>\n",
       "      <td>male</td>\n",
       "      <td>group B</td>\n",
       "      <td>high school</td>\n",
       "      <td>standard</td>\n",
       "      <td>none</td>\n",
       "      <td>77</td>\n",
       "      <td>78</td>\n",
       "      <td>68</td>\n",
       "    </tr>\n",
       "    <tr>\n",
       "      <th>4</th>\n",
       "      <td>male</td>\n",
       "      <td>group E</td>\n",
       "      <td>associate's degree</td>\n",
       "      <td>standard</td>\n",
       "      <td>completed</td>\n",
       "      <td>78</td>\n",
       "      <td>73</td>\n",
       "      <td>68</td>\n",
       "    </tr>\n",
       "  </tbody>\n",
       "</table>\n",
       "</div>"
      ],
      "text/plain": [
       "   gender     race    parent_education         lunch test_preparation_course  \\\n",
       "0    male  group A         high school      standard               completed   \n",
       "1  female  group D    some high school  free/reduced                    none   \n",
       "2    male  group E        some college  free/reduced                    none   \n",
       "3    male  group B         high school      standard                    none   \n",
       "4    male  group E  associate's degree      standard               completed   \n",
       "\n",
       "   math_score  reading_score  writing_score  \n",
       "0          67             67             63  \n",
       "1          40             59             55  \n",
       "2          59             60             50  \n",
       "3          77             78             68  \n",
       "4          78             73             68  "
      ]
     },
     "execution_count": 2,
     "metadata": {},
     "output_type": "execute_result"
    }
   ],
   "source": [
    "df = pd.read_csv('exams.csv') #read CSV file and store in DF variable\n",
    "df.head() #Display the first 5 rows of exams dataframe"
   ]
  },
  {
   "cell_type": "markdown",
   "metadata": {},
   "source": [
    "We can see here that all column values are categorical except the test scores, these will later need to be changed to numerical data to be able to use it with SKLearn, Also only one target variable is going to be predicted, but there are three scores, this will be tackled shortly. Before doing any of this the data will be checked for any null values, if they have any the data will need to be cleaned."
   ]
  },
  {
   "cell_type": "code",
   "execution_count": 3,
   "metadata": {
    "scrolled": true
   },
   "outputs": [
    {
     "data": {
      "text/plain": [
       "gender                     0\n",
       "race                       0\n",
       "parent_education           0\n",
       "lunch                      0\n",
       "test_preparation_course    0\n",
       "math_score                 0\n",
       "reading_score              0\n",
       "writing_score              0\n",
       "dtype: int64"
      ]
     },
     "execution_count": 3,
     "metadata": {},
     "output_type": "execute_result"
    }
   ],
   "source": [
    "df.isnull().sum() #returns the count of null values in each attribute"
   ]
  },
  {
   "cell_type": "markdown",
   "metadata": {},
   "source": [
    "As there arent any null values, we dont need to do anything."
   ]
  },
  {
   "cell_type": "code",
   "execution_count": 4,
   "metadata": {},
   "outputs": [
    {
     "data": {
      "image/png": "[encoded data removed]",
      "text/plain": [
       "<Figure size 640x480 with 2 Axes>"
      ]
     },
     "metadata": {},
     "output_type": "display_data"
    }
   ],
   "source": [
    "# Create a correlation matrix\n",
    "corr = df[[\"math_score\",\"reading_score\",\"writing_score\"]].corr()\n",
    "\n",
    "# Create a heatmap\n",
    "sns.heatmap(corr,\n",
    "            xticklabels=corr.columns,\n",
    "            yticklabels=corr.columns,\n",
    "            annot=True,\n",
    "            cmap=\"GnBu\",\n",
    "            vmin=0.5);"
   ]
  },
  {
   "cell_type": "markdown",
   "metadata": {},
   "source": [
    "From this heatmap we can see that the reading and writing scores are highly correlated at 95%, and the math correlates with them at 80%+, these numbers are high enough where it's safe to average the scores and predict the average"
   ]
  },
  {
   "cell_type": "code",
   "execution_count": 5,
   "metadata": {},
   "outputs": [
    {
     "data": {
      "text/html": [
       "<div>\n",
       "<style scoped>\n",
       "    .dataframe tbody tr th:only-of-type {\n",
       "        vertical-align: middle;\n",
       "    }\n",
       "\n",
       "    .dataframe tbody tr th {\n",
       "        vertical-align: top;\n",
       "    }\n",
       "\n",
       "    .dataframe thead th {\n",
       "        text-align: right;\n",
       "    }\n",
       "</style>\n",
       "<table border=\"1\" class=\"dataframe\">\n",
       "  <thead>\n",
       "    <tr style=\"text-align: right;\">\n",
       "      <th></th>\n",
       "      <th>gender</th>\n",
       "      <th>race</th>\n",
       "      <th>parent_education</th>\n",
       "      <th>lunch</th>\n",
       "      <th>test_preparation_course</th>\n",
       "      <th>avg_score</th>\n",
       "    </tr>\n",
       "  </thead>\n",
       "  <tbody>\n",
       "    <tr>\n",
       "      <th>0</th>\n",
       "      <td>male</td>\n",
       "      <td>group A</td>\n",
       "      <td>high school</td>\n",
       "      <td>standard</td>\n",
       "      <td>completed</td>\n",
       "      <td>66</td>\n",
       "    </tr>\n",
       "    <tr>\n",
       "      <th>1</th>\n",
       "      <td>female</td>\n",
       "      <td>group D</td>\n",
       "      <td>some high school</td>\n",
       "      <td>free/reduced</td>\n",
       "      <td>none</td>\n",
       "      <td>51</td>\n",
       "    </tr>\n",
       "    <tr>\n",
       "      <th>2</th>\n",
       "      <td>male</td>\n",
       "      <td>group E</td>\n",
       "      <td>some college</td>\n",
       "      <td>free/reduced</td>\n",
       "      <td>none</td>\n",
       "      <td>56</td>\n",
       "    </tr>\n",
       "    <tr>\n",
       "      <th>3</th>\n",
       "      <td>male</td>\n",
       "      <td>group B</td>\n",
       "      <td>high school</td>\n",
       "      <td>standard</td>\n",
       "      <td>none</td>\n",
       "      <td>74</td>\n",
       "    </tr>\n",
       "    <tr>\n",
       "      <th>4</th>\n",
       "      <td>male</td>\n",
       "      <td>group E</td>\n",
       "      <td>associate's degree</td>\n",
       "      <td>standard</td>\n",
       "      <td>completed</td>\n",
       "      <td>73</td>\n",
       "    </tr>\n",
       "  </tbody>\n",
       "</table>\n",
       "</div>"
      ],
      "text/plain": [
       "   gender     race    parent_education         lunch test_preparation_course  \\\n",
       "0    male  group A         high school      standard               completed   \n",
       "1  female  group D    some high school  free/reduced                    none   \n",
       "2    male  group E        some college  free/reduced                    none   \n",
       "3    male  group B         high school      standard                    none   \n",
       "4    male  group E  associate's degree      standard               completed   \n",
       "\n",
       "   avg_score  \n",
       "0         66  \n",
       "1         51  \n",
       "2         56  \n",
       "3         74  \n",
       "4         73  "
      ]
     },
     "execution_count": 5,
     "metadata": {},
     "output_type": "execute_result"
    }
   ],
   "source": [
    "# Averageing scores and storing them in a new 'avg_score' column\n",
    "df[\"avg_score\"] = df.apply(lambda row: round((row[\"math_score\"] + row[\"reading_score\"] + row[\"writing_score\"]) / 3), axis=1)\n",
    "# Dropping math, reading and writing scores from the df\n",
    "df.drop(['math_score', 'reading_score', 'writing_score'], axis=1, inplace=True) \n",
    "df.head()"
   ]
  },
  {
   "cell_type": "markdown",
   "metadata": {},
   "source": [
    "Only the students grade `(A,B,C,D,F)` is needed and not their exact score, and as such their scores will be converted to grades."
   ]
  },
  {
   "cell_type": "code",
   "execution_count": 6,
   "metadata": {
    "scrolled": false
   },
   "outputs": [
    {
     "data": {
      "text/html": [
       "<div>\n",
       "<style scoped>\n",
       "    .dataframe tbody tr th:only-of-type {\n",
       "        vertical-align: middle;\n",
       "    }\n",
       "\n",
       "    .dataframe tbody tr th {\n",
       "        vertical-align: top;\n",
       "    }\n",
       "\n",
       "    .dataframe thead th {\n",
       "        text-align: right;\n",
       "    }\n",
       "</style>\n",
       "<table border=\"1\" class=\"dataframe\">\n",
       "  <thead>\n",
       "    <tr style=\"text-align: right;\">\n",
       "      <th></th>\n",
       "      <th>gender</th>\n",
       "      <th>race</th>\n",
       "      <th>parent_education</th>\n",
       "      <th>lunch</th>\n",
       "      <th>test_preparation_course</th>\n",
       "      <th>avg_score</th>\n",
       "    </tr>\n",
       "  </thead>\n",
       "  <tbody>\n",
       "    <tr>\n",
       "      <th>0</th>\n",
       "      <td>male</td>\n",
       "      <td>group A</td>\n",
       "      <td>high school</td>\n",
       "      <td>standard</td>\n",
       "      <td>completed</td>\n",
       "      <td>D</td>\n",
       "    </tr>\n",
       "    <tr>\n",
       "      <th>1</th>\n",
       "      <td>female</td>\n",
       "      <td>group D</td>\n",
       "      <td>some high school</td>\n",
       "      <td>free/reduced</td>\n",
       "      <td>none</td>\n",
       "      <td>F</td>\n",
       "    </tr>\n",
       "    <tr>\n",
       "      <th>2</th>\n",
       "      <td>male</td>\n",
       "      <td>group E</td>\n",
       "      <td>some college</td>\n",
       "      <td>free/reduced</td>\n",
       "      <td>none</td>\n",
       "      <td>F</td>\n",
       "    </tr>\n",
       "    <tr>\n",
       "      <th>3</th>\n",
       "      <td>male</td>\n",
       "      <td>group B</td>\n",
       "      <td>high school</td>\n",
       "      <td>standard</td>\n",
       "      <td>none</td>\n",
       "      <td>C</td>\n",
       "    </tr>\n",
       "    <tr>\n",
       "      <th>4</th>\n",
       "      <td>male</td>\n",
       "      <td>group E</td>\n",
       "      <td>associate's degree</td>\n",
       "      <td>standard</td>\n",
       "      <td>completed</td>\n",
       "      <td>C</td>\n",
       "    </tr>\n",
       "  </tbody>\n",
       "</table>\n",
       "</div>"
      ],
      "text/plain": [
       "   gender     race    parent_education         lunch test_preparation_course  \\\n",
       "0    male  group A         high school      standard               completed   \n",
       "1  female  group D    some high school  free/reduced                    none   \n",
       "2    male  group E        some college  free/reduced                    none   \n",
       "3    male  group B         high school      standard                    none   \n",
       "4    male  group E  associate's degree      standard               completed   \n",
       "\n",
       "  avg_score  \n",
       "0         D  \n",
       "1         F  \n",
       "2         F  \n",
       "3         C  \n",
       "4         C  "
      ]
     },
     "execution_count": 6,
     "metadata": {},
     "output_type": "execute_result"
    }
   ],
   "source": [
    "# Declare conditions, and corresponding grade categories\n",
    "conditions, type_choices = (\n",
    "    [\n",
    "        (df[\"avg_score\"] >= 90),\n",
    "        (df[\"avg_score\"] >= 80),\n",
    "        (df[\"avg_score\"] >= 70),\n",
    "        (df[\"avg_score\"] >= 60),\n",
    "        (df[\"avg_score\"] < 60),\n",
    "    ],\n",
    "        [\"A\", \"B\", \"C\", \"D\", \"F\"]\n",
    ")\n",
    "\n",
    "# Change score to grade (A,B,C,D,F) based on the above conditions\n",
    "df[\"avg_score\"] = np.select(conditions, type_choices, default=\"F\")\n",
    "df.head()"
   ]
  },
  {
   "cell_type": "markdown",
   "metadata": {},
   "source": [
    "### 2. Data visualization and analysis\n",
    "***"
   ]
  },
  {
   "cell_type": "markdown",
   "metadata": {},
   "source": [
    "In this phase, the data will be visualised and then an analysis will be made. The analysis of the visulization could show that the data needs further cleaning."
   ]
  },
  {
   "cell_type": "markdown",
   "metadata": {},
   "source": [
    "The first step will be to plot the total number of male and female students."
   ]
  },
  {
   "cell_type": "code",
   "execution_count": 7,
   "metadata": {
    "scrolled": false
   },
   "outputs": [
    {
     "data": {
      "image/png": "[encoded data removed]",
      "text/plain": [
       "<Figure size 700x600 with 1 Axes>"
      ]
     },
     "metadata": {},
     "output_type": "display_data"
    }
   ],
   "source": [
    "gender = df['gender'].value_counts() #array of the count for males and females\n",
    "plt.figure(figsize=(7, 6)) #plot and figure size\n",
    "ax = gender.plot(kind='bar', rot=0, color='mediumturquoise') #plotting the gender by bar plot\n",
    "# Setting title, label and x ticks\n",
    "ax.set_title(\"Student's Gender\", y = 1)\n",
    "ax.set_xlabel('Gender')\n",
    "ax.set_ylabel('Total Number of Students')\n",
    "ax.set_xticklabels(('Male', 'Female'));"
   ]
  },
  {
   "cell_type": "markdown",
   "metadata": {},
   "source": [
    "This shows that there are slightly more male students than female students in this dataset"
   ]
  },
  {
   "cell_type": "markdown",
   "metadata": {},
   "source": [
    "Now lets plot the total count of each grade to see the grade distribution, to make the plot correctly I'll need to make a mapping of the grades so all the grades get ordered from A to F, this will only be used for this plot."
   ]
  },
  {
   "cell_type": "code",
   "execution_count": 8,
   "metadata": {
    "scrolled": false
   },
   "outputs": [
    {
     "data": {
      "image/png": "[encoded data removed]",
      "text/plain": [
       "<Figure size 640x480 with 1 Axes>"
      ]
     },
     "metadata": {},
     "output_type": "display_data"
    }
   ],
   "source": [
    "scores = df['avg_score'].value_counts()\n",
    "ax = scores.plot(kind='bar', rot=0, color='rebeccapurple')\n",
    "ax.set_title(\"Student's Grades\", y = 1)\n",
    "ax.set_xlabel('Grades')\n",
    "ax.set_ylabel('Total Number of Students')\n",
    "ax.set_xticklabels(('F', 'D', 'C', 'B', 'A'));"
   ]
  },
  {
   "cell_type": "markdown",
   "metadata": {},
   "source": [
    "We can see here that higher grades have less number of students, the most common grade is an F or an average of failure in the courses."
   ]
  },
  {
   "cell_type": "code",
   "execution_count": 9,
   "metadata": {},
   "outputs": [
    {
     "data": {
      "image/png": "[encoded data removed]",
      "text/plain": [
       "<Figure size 1000x600 with 1 Axes>"
      ]
     },
     "metadata": {},
     "output_type": "display_data"
    }
   ],
   "source": [
    "# Select the columns you want to plot\n",
    "gender = df[\"gender\"]\n",
    "score = df[\"avg_score\"]\n",
    "# Convert the scores column to a Categorical type with an ordered list of categories\n",
    "score_categorical = pd.Categorical(score, categories=[\"A\", \"B\", \"C\", \"D\", \"F\"], ordered=True)\n",
    "# Make plot bigger\n",
    "plt.figure(figsize=(10,6))\n",
    "# Make count plot\n",
    "ax = sns.countplot(x=score_categorical, hue=gender, order=[\"A\", \"B\", \"C\", \"D\", \"F\"])\n",
    "# Get the counts for each bar\n",
    "counts = df.groupby([\"gender\", \"avg_score\"]).size().reset_index(name=\"count\")\n",
    "ax.bar_label(ax.containers[0])\n",
    "ax.bar_label(ax.containers[1]);"
   ]
  },
  {
   "cell_type": "code",
   "execution_count": 10,
   "metadata": {},
   "outputs": [
    {
     "data": {
      "image/png": "[encoded data removed]",
      "text/plain": [
       "<Figure size 640x480 with 1 Axes>"
      ]
     },
     "metadata": {},
     "output_type": "display_data"
    }
   ],
   "source": [
    "# Count the number of students in each parent education level\n",
    "education_counts = df[\"parent_education\"].value_counts()\n",
    "# Calculate the percentages of each education level\n",
    "education_percents = education_counts / education_counts.sum()\n",
    "# Create a list of labels in the format \"education level (percentage)\"\n",
    "labels = [\"{} ({:.2f}%)\".format(level, 100*percent) for level, percent in zip(education_counts.index, education_percents)]\n",
    "# Plot the counts as a pie chart\n",
    "plt.pie(education_counts, labels=labels)\n",
    "# Add a title to the plot\n",
    "plt.title(\"Parent Education Levels\");"
   ]
  },
  {
   "cell_type": "markdown",
   "metadata": {},
   "source": [
    "### 3. Feature Selection\n",
    "***"
   ]
  },
  {
   "cell_type": "markdown",
   "metadata": {},
   "source": [
    "The target feature\n",
    "* average grade\n",
    "\n",
    "The features to be learned from\n",
    "* gender\n",
    "* race\n",
    "* parents education\n",
    "* lunch\n",
    "* preperation course completion"
   ]
  },
  {
   "cell_type": "markdown",
   "metadata": {},
   "source": [
    "### 4. Data Preperation\n",
    "***"
   ]
  },
  {
   "cell_type": "markdown",
   "metadata": {},
   "source": [
    "To be able to apply the SKLearn library's machine learning algorithms the categorical data needs to be converted into numerical data. \n",
    "Starting by converting the nominal variables which are:\n",
    "* Gender\n",
    "* Race\n",
    "* Lunch\n",
    "* Test Preparation Course\n",
    "\n",
    "These variables are not ordered and as such are qualified as categorical.\n",
    "\n",
    "SKLearn's OneHotEncoder will be used to automatically convert the data to numerical data."
   ]
  },
  {
   "cell_type": "code",
   "execution_count": 11,
   "metadata": {},
   "outputs": [
    {
     "data": {
      "text/plain": [
       "array([[0., 1.],\n",
       "       [1., 0.],\n",
       "       [0., 1.],\n",
       "       [0., 1.],\n",
       "       [0., 1.]])"
      ]
     },
     "execution_count": 11,
     "metadata": {},
     "output_type": "execute_result"
    }
   ],
   "source": [
    "ohe = OneHotEncoder(sparse = False) #initilization\n",
    "ohe.fit_transform(df[['gender']])[:5] #transforms gender to numerical and prints first 5 rows\n"
   ]
  },
  {
   "cell_type": "markdown",
   "metadata": {},
   "source": [
    "Lets check the female/male values of the first 5 rows and compare it to the array above"
   ]
  },
  {
   "cell_type": "code",
   "execution_count": 12,
   "metadata": {
    "scrolled": true
   },
   "outputs": [
    {
     "data": {
      "text/plain": [
       "0      male\n",
       "1    female\n",
       "2      male\n",
       "3      male\n",
       "4      male\n",
       "Name: gender, dtype: object"
      ]
     },
     "execution_count": 12,
     "metadata": {},
     "output_type": "execute_result"
    }
   ],
   "source": [
    "df['gender'].head()"
   ]
  },
  {
   "cell_type": "markdown",
   "metadata": {},
   "source": [
    "We can see that the `nominal_ordered` array has female as its first value and male as its seconds"
   ]
  },
  {
   "cell_type": "markdown",
   "metadata": {},
   "source": [
    "Now that this was shown to work as expected, it will be applied to all nominal datatypes in our dataset"
   ]
  },
  {
   "cell_type": "code",
   "execution_count": 13,
   "metadata": {},
   "outputs": [
    {
     "data": {
      "text/plain": [
       "array([[0., 1., 1., 0., 0., 0., 0., 0., 1., 1., 0.],\n",
       "       [1., 0., 0., 0., 0., 1., 0., 1., 0., 0., 1.],\n",
       "       [0., 1., 0., 0., 0., 0., 1., 1., 0., 0., 1.],\n",
       "       [0., 1., 0., 1., 0., 0., 0., 0., 1., 0., 1.],\n",
       "       [0., 1., 0., 0., 0., 0., 1., 0., 1., 1., 0.]])"
      ]
     },
     "execution_count": 13,
     "metadata": {},
     "output_type": "execute_result"
    }
   ],
   "source": [
    "ohe.fit_transform(df[['gender','race','lunch','test_preparation_course']])[:5]"
   ]
  },
  {
   "cell_type": "code",
   "execution_count": 14,
   "metadata": {},
   "outputs": [
    {
     "data": {
      "text/html": [
       "<div>\n",
       "<style scoped>\n",
       "    .dataframe tbody tr th:only-of-type {\n",
       "        vertical-align: middle;\n",
       "    }\n",
       "\n",
       "    .dataframe tbody tr th {\n",
       "        vertical-align: top;\n",
       "    }\n",
       "\n",
       "    .dataframe thead th {\n",
       "        text-align: right;\n",
       "    }\n",
       "</style>\n",
       "<table border=\"1\" class=\"dataframe\">\n",
       "  <thead>\n",
       "    <tr style=\"text-align: right;\">\n",
       "      <th></th>\n",
       "      <th>gender</th>\n",
       "      <th>race</th>\n",
       "      <th>lunch</th>\n",
       "      <th>test_preparation_course</th>\n",
       "    </tr>\n",
       "  </thead>\n",
       "  <tbody>\n",
       "    <tr>\n",
       "      <th>0</th>\n",
       "      <td>male</td>\n",
       "      <td>group A</td>\n",
       "      <td>standard</td>\n",
       "      <td>completed</td>\n",
       "    </tr>\n",
       "    <tr>\n",
       "      <th>1</th>\n",
       "      <td>female</td>\n",
       "      <td>group D</td>\n",
       "      <td>free/reduced</td>\n",
       "      <td>none</td>\n",
       "    </tr>\n",
       "    <tr>\n",
       "      <th>2</th>\n",
       "      <td>male</td>\n",
       "      <td>group E</td>\n",
       "      <td>free/reduced</td>\n",
       "      <td>none</td>\n",
       "    </tr>\n",
       "    <tr>\n",
       "      <th>3</th>\n",
       "      <td>male</td>\n",
       "      <td>group B</td>\n",
       "      <td>standard</td>\n",
       "      <td>none</td>\n",
       "    </tr>\n",
       "    <tr>\n",
       "      <th>4</th>\n",
       "      <td>male</td>\n",
       "      <td>group E</td>\n",
       "      <td>standard</td>\n",
       "      <td>completed</td>\n",
       "    </tr>\n",
       "  </tbody>\n",
       "</table>\n",
       "</div>"
      ],
      "text/plain": [
       "   gender     race         lunch test_preparation_course\n",
       "0    male  group A      standard               completed\n",
       "1  female  group D  free/reduced                    none\n",
       "2    male  group E  free/reduced                    none\n",
       "3    male  group B      standard                    none\n",
       "4    male  group E      standard               completed"
      ]
     },
     "execution_count": 14,
     "metadata": {},
     "output_type": "execute_result"
    }
   ],
   "source": [
    "df[['gender','race','lunch','test_preparation_course']].head()"
   ]
  },
  {
   "cell_type": "code",
   "execution_count": 15,
   "metadata": {},
   "outputs": [
    {
     "data": {
      "text/plain": [
       "[array(['female', 'male'], dtype=object),\n",
       " array(['group A', 'group B', 'group C', 'group D', 'group E'],\n",
       "       dtype=object),\n",
       " array(['free/reduced', 'standard'], dtype=object),\n",
       " array(['completed', 'none'], dtype=object)]"
      ]
     },
     "execution_count": 15,
     "metadata": {},
     "output_type": "execute_result"
    }
   ],
   "source": [
    "ohe.categories_"
   ]
  },
  {
   "cell_type": "markdown",
   "metadata": {},
   "source": [
    "We can see that OHE converted the data to numerical by altering the array, as the `categories_` the first two indiceses will be female and male, the next 5 will describe the race, the next two will be about the meal and the last two will be about the completion of the course. \n"
   ]
  },
  {
   "cell_type": "markdown",
   "metadata": {},
   "source": [
    "Now the ordinal `parents_education` is left to convert, since this is an ordered category, I will need to manuelly encode the variables to be able to order them and convert them to numerical type."
   ]
  },
  {
   "cell_type": "code",
   "execution_count": 16,
   "metadata": {},
   "outputs": [
    {
     "data": {
      "text/plain": [
       "array([[1.],\n",
       "       [0.],\n",
       "       [2.],\n",
       "       [1.],\n",
       "       [3.]])"
      ]
     },
     "execution_count": 16,
     "metadata": {},
     "output_type": "execute_result"
    }
   ],
   "source": [
    "education = [['some high school', 'high school', 'some college', \n",
    "              'associate\\'s degree', 'bachelor\\'s degree', 'master\\'s degree']]\n",
    "oe_edu = OrdinalEncoder(categories = education)\n",
    "oe_edu.fit_transform(df[['parent_education']])[:5]"
   ]
  },
  {
   "cell_type": "code",
   "execution_count": 17,
   "metadata": {},
   "outputs": [
    {
     "data": {
      "text/plain": [
       "0           high school\n",
       "1      some high school\n",
       "2          some college\n",
       "3           high school\n",
       "4    associate's degree\n",
       "Name: parent_education, dtype: object"
      ]
     },
     "execution_count": 17,
     "metadata": {},
     "output_type": "execute_result"
    }
   ],
   "source": [
    "df['parent_education'].head()"
   ]
  },
  {
   "cell_type": "markdown",
   "metadata": {
    "slideshow": {
     "slide_type": "-"
    }
   },
   "source": [
    "As you can see, now the parents education has been ordered and converted to numbers."
   ]
  },
  {
   "cell_type": "markdown",
   "metadata": {},
   "source": [
    "Finally, we need to do the same thing from the grades as well"
   ]
  },
  {
   "cell_type": "code",
   "execution_count": 18,
   "metadata": {},
   "outputs": [
    {
     "data": {
      "text/plain": [
       "array([[3.],\n",
       "       [4.],\n",
       "       [4.],\n",
       "       [2.],\n",
       "       [2.]])"
      ]
     },
     "execution_count": 18,
     "metadata": {},
     "output_type": "execute_result"
    }
   ],
   "source": [
    "grades = ['A','B','C','D','F']\n",
    "oe_grades = OrdinalEncoder(categories = [grades])\n",
    "oe_grades.fit_transform(df[['avg_score']])[:5]\n",
    " "
   ]
  },
  {
   "cell_type": "code",
   "execution_count": 19,
   "metadata": {},
   "outputs": [
    {
     "data": {
      "text/plain": [
       "0    D\n",
       "1    F\n",
       "2    F\n",
       "3    C\n",
       "4    C\n",
       "Name: avg_score, dtype: object"
      ]
     },
     "execution_count": 19,
     "metadata": {},
     "output_type": "execute_result"
    }
   ],
   "source": [
    "df['avg_score'].head()"
   ]
  },
  {
   "cell_type": "markdown",
   "metadata": {},
   "source": [
    "And by doing this we are finished with the data cleaning and preperation."
   ]
  },
  {
   "cell_type": "markdown",
   "metadata": {},
   "source": [
    "\n",
    "### 5. Machine Learning\n",
    " ***"
   ]
  },
  {
   "cell_type": "markdown",
   "metadata": {},
   "source": [
    "After preparing the data, now the data has to be split into predictor variables and the target variable, as mentioned previously the target variable will be the average score, everything else will be in the predictor variables array."
   ]
  },
  {
   "cell_type": "code",
   "execution_count": 20,
   "metadata": {},
   "outputs": [],
   "source": [
    "x = df.drop('avg_score', axis = 1) #dropping grades column from original df\n",
    "y = df['avg_score'] #only keeping grades column from original df"
   ]
  },
  {
   "cell_type": "markdown",
   "metadata": {},
   "source": [
    "after making the predictor and target arrays, now we need to transform the values to the ordered and number values we made in the preperation phase"
   ]
  },
  {
   "cell_type": "code",
   "execution_count": 21,
   "metadata": {},
   "outputs": [],
   "source": [
    "#transforming columns using the ordered array and their original column names\n",
    "x_transform = make_column_transformer((ohe,['gender','race','lunch','test_preparation_course']),\n",
    "                                      (oe_edu, ['parent_education']))\n",
    "#applying the column transformer to the variables\n",
    "x_ready = x_transform.fit_transform(x)\n",
    "y_transform = make_column_transformer((oe_grades, ['avg_score']))\n",
    "#y_ready = y_transform.fit_transform"
   ]
  },
  {
   "cell_type": "code",
   "execution_count": 22,
   "metadata": {},
   "outputs": [
    {
     "data": {
      "text/plain": [
       "array([0., 1., 1., 0., 0., 0., 0., 0., 1., 1., 0., 1.])"
      ]
     },
     "execution_count": 22,
     "metadata": {},
     "output_type": "execute_result"
    }
   ],
   "source": [
    "x_ready[0]"
   ]
  },
  {
   "cell_type": "code",
   "execution_count": 23,
   "metadata": {},
   "outputs": [
    {
     "name": "stdout",
     "output_type": "stream",
     "text": [
      "x train size:  (700, 12) \t x test size:  (300, 12)\n",
      "y train size:  (700,) \t\t y test size:  (300,)\n"
     ]
    }
   ],
   "source": [
    "x_train, x_test, y_train, y_test = train_test_split(x_ready, y,test_size = 0.3)\n",
    "print('x train size: ',x_train.shape,'\\t x test size: ', x_test.shape)\n",
    "print('y train size: ',y_train.shape,'\\t\\t y test size: ', y_test.shape)"
   ]
  },
  {
   "cell_type": "markdown",
   "metadata": {},
   "source": [
    "#### Classifier #1: RandomForestClassifier"
   ]
  },
  {
   "cell_type": "code",
   "execution_count": 24,
   "metadata": {},
   "outputs": [
    {
     "name": "stdout",
     "output_type": "stream",
     "text": [
      "Correct Predictions:  104\n",
      "Incorrect Predictions:  196\n",
      "RandomForestClassifier Accuracy: 34.7%\n"
     ]
    }
   ],
   "source": [
    "clf_RFC = RandomForestClassifier(min_samples_split=100,n_estimators=50, min_samples_leaf=10) # making classifier object\n",
    "clf_RFC.fit(x_train,y_train) # training using the classifier\n",
    "RFC_score = clf_RFC.score(x_test,y_test) # testing the classifier and checking accuracy\n",
    "RFC_percentage = round(RFC_score*100,1) # rounded rfc_score as a percentage \n",
    "\n",
    "print('Correct Predictions: ', round(RFC_score * x_test.shape[0]))\n",
    "print('Incorrect Predictions: ', round((1-RFC_score) * x_test.shape[0]))\n",
    "print('RandomForestClassifier Accuracy: ' + str(RFC_percentage) + '%')"
   ]
  },
  {
   "cell_type": "markdown",
   "metadata": {},
   "source": [
    "#### Classifier #2: GradientBoostingClassifier"
   ]
  },
  {
   "cell_type": "code",
   "execution_count": 25,
   "metadata": {
    "scrolled": false
   },
   "outputs": [
    {
     "name": "stdout",
     "output_type": "stream",
     "text": [
      "Correct Predictions:  110\n",
      "Incorrect Predictions:  190\n",
      "GradientBoostingClassifier Accuracy: 36.7%\n"
     ]
    }
   ],
   "source": [
    "clf_GBC = GradientBoostingClassifier()\n",
    "clf_GBC.fit(x_train, y_train)\n",
    "GBC_score = clf_GBC.score(x_test, y_test)\n",
    "GBC_percentage = round(GBC_score*100,1)\n",
    "\n",
    "print('Correct Predictions: ', round(GBC_score * x_test.shape[0]))\n",
    "print('Incorrect Predictions: ', round((1-GBC_score) * x_test.shape[0]))\n",
    "print('GradientBoostingClassifier Accuracy: ' + str(GBC_percentage) + '%')"
   ]
  },
  {
   "cell_type": "markdown",
   "metadata": {},
   "source": [
    "#### Classifer #3: AdaBoostClassifier"
   ]
  },
  {
   "cell_type": "code",
   "execution_count": 26,
   "metadata": {},
   "outputs": [
    {
     "name": "stdout",
     "output_type": "stream",
     "text": [
      "Correct Predictions:  101\n",
      "Incorrect Predictions:  199\n",
      "AdaBoostClassifier Accuracy: 33.7%\n"
     ]
    }
   ],
   "source": [
    "clf_ABC = AdaBoostClassifier().fit(x_train,y_train)\n",
    "ABC_score = clf_ABC.score(x_test,y_test)\n",
    "ABC_percentage = round(ABC_score*100,1)\n",
    "print('Correct Predictions: ', round(ABC_score * x_test.shape[0]))\n",
    "print('Incorrect Predictions: ', round((1-ABC_score) * x_test.shape[0]))\n",
    "print('AdaBoostClassifier Accuracy: ' + str(ABC_percentage) + '%')"
   ]
  },
  {
   "cell_type": "markdown",
   "metadata": {},
   "source": [
    "<a id='conclusion'></a>\n",
    "## Conclusion\n",
    "***\n",
    "After applying the different classifiers, we got similar accuracy percentages but all of them were rather low accuracy percentages. The reason all the accuracies of the classifiers was low could be because the original students dataset does not have a great colleration between grades and any of its attributes, therefore none of the classifiers could get a very accurate predication for the students grades."
   ]
  }
 ],
 "metadata": {
  "kernelspec": {
   "display_name": "Python 3 (ipykernel)",
   "language": "python",
   "name": "python3"
  },
  "language_info": {
   "codemirror_mode": {
    "name": "ipython",
    "version": 3
   },
   "file_extension": ".py",
   "mimetype": "text/x-python",
   "name": "python",
   "nbconvert_exporter": "python",
   "pygments_lexer": "ipython3",
   "version": "3.9.13"
  }
 },
 "nbformat": 4,
 "nbformat_minor": 2
}
